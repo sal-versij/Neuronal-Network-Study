{
 "metadata": {
  "language_info": {
   "codemirror_mode": {
    "name": "ipython",
    "version": 3
   },
   "file_extension": ".py",
   "mimetype": "text/x-python",
   "name": "python",
   "nbconvert_exporter": "python",
   "pygments_lexer": "ipython3",
   "version": "3.7.0"
  },
  "orig_nbformat": 4,
  "kernelspec": {
   "name": "python3",
   "display_name": "Python 3.7.0 32-bit"
  },
  "interpreter": {
   "hash": "04635d289a519a1410467dd0afb0db42f9184808881ca68b2eb5a687a20a5a94"
  }
 },
 "nbformat": 4,
 "nbformat_minor": 2,
 "cells": [
  {
   "cell_type": "code",
   "execution_count": 1,
   "metadata": {},
   "outputs": [
    {
     "output_type": "stream",
     "name": "stdout",
     "text": [
      "[[0.]\n [0.]\n [0.]\n [0.]]\n"
     ]
    }
   ],
   "source": [
    "import numpy as np\n",
    "import matplotlib as mtp\n",
    "from Layer import Dense\n",
    "from Activation import ReLU\n",
    "\n",
    "X = np.random.randn(100,1)\n",
    "\n",
    "layer1 = Dense(1,64)\n",
    "layer2 = Dense(64,1)\n",
    "relu = ReLU()\n",
    "layer1.forward(X)\n",
    "relu.forward(layer1.output)\n",
    "layer2.forward(relu.output)\n",
    "relu.forward(layer2.output)\n",
    "print(relu.output)"
   ]
  },
  {
   "cell_type": "code",
   "execution_count": null,
   "metadata": {},
   "outputs": [],
   "source": []
  }
 ]
}