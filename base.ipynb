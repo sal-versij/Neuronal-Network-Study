{
 "metadata": {
  "language_info": {
   "codemirror_mode": {
    "name": "ipython",
    "version": 3
   },
   "file_extension": ".py",
   "mimetype": "text/x-python",
   "name": "python",
   "nbconvert_exporter": "python",
   "pygments_lexer": "ipython3",
   "version": "3.7.0"
  },
  "orig_nbformat": 4,
  "kernelspec": {
   "name": "python3",
   "display_name": "Python 3.7.0 32-bit"
  },
  "interpreter": {
   "hash": "04635d289a519a1410467dd0afb0db42f9184808881ca68b2eb5a687a20a5a94"
  }
 },
 "nbformat": 4,
 "nbformat_minor": 2,
 "cells": [
  {
   "cell_type": "code",
   "execution_count": 12,
   "metadata": {},
   "outputs": [],
   "source": [
    "import numpy as np\n"
   ]
  },
  {
   "cell_type": "code",
   "execution_count": 13,
   "metadata": {},
   "outputs": [
    {
     "output_type": "stream",
     "name": "stdout",
     "text": [
      "48.309999999999995\n"
     ]
    }
   ],
   "source": [
    "# A cell is a group of inputs, weights and a bias\n",
    "inputs = [1.2,5.3,6.1]\n",
    "weight = [3.1,5.2,2.3]\n",
    "bias = 3\n",
    "output = sum([inputs[x]*weight[x] for x in range(3)])+bias\n",
    "print(output)"
   ]
  },
  {
   "cell_type": "code",
   "execution_count": 14,
   "metadata": {},
   "outputs": [
    {
     "output_type": "stream",
     "name": "stdout",
     "text": [
      "[6.859999999999999, 17.300000000000004, 9.110000000000001, -5.89]\n"
     ]
    }
   ],
   "source": [
    "# A layer of cells can be defined by the weights and biases of each node, the input is the same for the full layer\n",
    "weights = [[1.5,-2.3,2.5],\n",
    "           [2.6,3.5,-1.7],\n",
    "           [-1.7,4.3,-2.4],\n",
    "           [-2.4,1.2,-1.7]]\n",
    "biases = [2,6,3,1]\n",
    "outputs = [sum([inputs[j]*weights[i][j] for j in range(3)])+biases[i] for i in range(4)]\n",
    "print(outputs)"
   ]
  },
  {
   "cell_type": "code",
   "execution_count": 15,
   "metadata": {},
   "outputs": [
    {
     "output_type": "stream",
     "name": "stdout",
     "text": [
      "[ 6.86 17.3   9.11 -5.89]\n"
     ]
    }
   ],
   "source": [
    "# Use np to speed up the work with vectorization\n",
    "outputs = np.dot(weights,inputs)+biases\n",
    "print(outputs)"
   ]
  },
  {
   "cell_type": "code",
   "execution_count": 16,
   "metadata": {},
   "outputs": [
    {
     "output_type": "stream",
     "name": "stdout",
     "text": [
      "[[  6.86  17.3    9.11  -5.89]\n [  5.24  25.81   9.91  -7.65]\n [ 12.05  22.83  -2.77 -13.92]\n [  9.41  31.73   3.27 -14.16]\n [ 15.77  15.08   0.95 -13.3 ]]\n"
     ]
    }
   ],
   "source": [
    "# Batch fitting with multiples inputs\n",
    "inputs = [[1.2,5.3,6.1],\n",
    "          [3.3,5.2,4.1],\n",
    "          [5.2,2.5,3.2],\n",
    "          [6.2,4.3,3.2],\n",
    "          [2.1,5.6,9.4]]\n",
    "# Th weights need to be transposed\n",
    "outputs = np.dot(inputs,np.array(weights).T)+biases\n",
    "print(outputs)"
   ]
  },
  {
   "cell_type": "code",
   "execution_count": null,
   "metadata": {},
   "outputs": [],
   "source": []
  }
 ]
}